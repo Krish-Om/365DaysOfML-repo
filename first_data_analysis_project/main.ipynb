{
 "cells": [
  {
   "cell_type": "markdown",
   "id": "f382383a",
   "metadata": {},
   "source": [
    "# My first data analysis project"
   ]
  },
  {
   "cell_type": "code",
   "execution_count": null,
   "id": "cb1b8d30",
   "metadata": {},
   "outputs": [
    {
     "ename": "",
     "evalue": "",
     "output_type": "error",
     "traceback": [
      "\u001b[1;31mRunning cells with 'first_data_analysis_project (Python 3.13.5)' requires the ipykernel package.\n",
      "\u001b[1;31mInstall 'ipykernel' into the Python environment. \n",
      "\u001b[1;31mCommand: '/home/krishom/Workspace/365DaysOfML/first_data_analysis_project/.venv/bin/python -m pip install ipykernel -U --force-reinstall'"
     ]
    }
   ],
   "source": [
    "# importing packages\n",
    "import pandas as pd\n",
    "import seaborn as sns\n",
    "import matplotlib.pyplot as plt\n",
    "import plotly.express as px\n",
    "import scipy.stats as stats\n",
    "from sklearn.preprocessing import LabelEncoder"
   ]
  },
  {
   "cell_type": "code",
   "execution_count": null,
   "id": "51d83d60",
   "metadata": {},
   "outputs": [],
   "source": [
    "print(pd.__version__)"
   ]
  },
  {
   "cell_type": "markdown",
   "id": "22197e4b",
   "metadata": {},
   "source": [
    "## Loading the Titanic dataset"
   ]
  },
  {
   "cell_type": "code",
   "execution_count": null,
   "id": "a64cf426",
   "metadata": {},
   "outputs": [],
   "source": [
    "titanic_file_path=\"datasets/train.csv\"\n",
    "df = pd.read_csv(titanic_file_path)\n",
    "df = df.drop(columns={'PassengerId'})"
   ]
  },
  {
   "cell_type": "code",
   "execution_count": null,
   "id": "6d160018",
   "metadata": {},
   "outputs": [],
   "source": [
    "df.head()"
   ]
  },
  {
   "cell_type": "markdown",
   "id": "94293c13",
   "metadata": {},
   "source": [
    "## Describing the dataframe"
   ]
  },
  {
   "cell_type": "code",
   "execution_count": null,
   "id": "18b3bcd2",
   "metadata": {},
   "outputs": [],
   "source": [
    "df.describe()"
   ]
  },
  {
   "cell_type": "markdown",
   "id": "cd122db6",
   "metadata": {},
   "source": [
    "## Data types of each column"
   ]
  },
  {
   "cell_type": "code",
   "execution_count": null,
   "id": "75597710",
   "metadata": {},
   "outputs": [],
   "source": [
    "df.info()"
   ]
  },
  {
   "cell_type": "markdown",
   "id": "58e6ab17",
   "metadata": {},
   "source": [
    "## Counting missing values"
   ]
  },
  {
   "cell_type": "code",
   "execution_count": null,
   "id": "9cf66c09",
   "metadata": {},
   "outputs": [],
   "source": [
    "df.isna().sum() "
   ]
  },
  {
   "cell_type": "markdown",
   "id": "10a6bd8c",
   "metadata": {},
   "source": [
    "## Handling missing values"
   ]
  },
  {
   "cell_type": "markdown",
   "id": "84e6e012",
   "metadata": {},
   "source": [
    "### filling the na values in the age\n",
    "* filling age with its median for null values"
   ]
  },
  {
   "cell_type": "code",
   "execution_count": null,
   "id": "f2e0697c",
   "metadata": {},
   "outputs": [],
   "source": [
    "median_age = df['Age'].median()\n",
    "# df['Age'].isnull().sum()\n",
    "df.fillna(median_age,inplace=True)\n",
    "df['Age'].isnull().sum()\n",
    "\n",
    "df.head()"
   ]
  },
  {
   "cell_type": "markdown",
   "id": "da50233b",
   "metadata": {},
   "source": [
    "### Dropping the cabin column as it has about 77% of data are missing"
   ]
  },
  {
   "cell_type": "code",
   "execution_count": null,
   "id": "11c4183f",
   "metadata": {},
   "outputs": [],
   "source": [
    "df.drop('Cabin',axis=1,inplace=True)\n",
    "df.head()"
   ]
  },
  {
   "cell_type": "code",
   "execution_count": null,
   "id": "f9f8bb0f",
   "metadata": {},
   "outputs": [],
   "source": [
    "df.isnull().sum()"
   ]
  },
  {
   "cell_type": "code",
   "execution_count": null,
   "id": "9c4af171",
   "metadata": {},
   "outputs": [],
   "source": [
    "df.isna().sum()"
   ]
  },
  {
   "cell_type": "markdown",
   "id": "899f3f05",
   "metadata": {},
   "source": [
    "### Duplicated values"
   ]
  },
  {
   "cell_type": "code",
   "execution_count": null,
   "id": "63edfb38",
   "metadata": {},
   "outputs": [],
   "source": [
    "df.duplicated().sum()"
   ]
  },
  {
   "cell_type": "markdown",
   "id": "112ee396",
   "metadata": {},
   "source": [
    "### Distribution of Ages"
   ]
  },
  {
   "cell_type": "code",
   "execution_count": null,
   "id": "2895795d",
   "metadata": {},
   "outputs": [],
   "source": [
    "plt.figure(figsize=(10,6))\n",
    "sns.histplot(df['Age'],kde=True,color='blue',bins=30)\n",
    "plt.title('Distribution of Ages',fontsize=16)\n",
    "plt.xlabel('Price')\n",
    "plt.ylabel(\"Frequency\")\n",
    "plt.show()"
   ]
  },
  {
   "cell_type": "markdown",
   "id": "4c99be18",
   "metadata": {},
   "source": [
    "* Shows a slight +ve skewness"
   ]
  },
  {
   "cell_type": "markdown",
   "id": "f012a3e4",
   "metadata": {},
   "source": [
    "### Scatter plot"
   ]
  },
  {
   "cell_type": "code",
   "execution_count": null,
   "id": "f9e0b4e0",
   "metadata": {},
   "outputs": [],
   "source": [
    "plt.figure(figsize=(10,6))\n",
    "sns.scatterplot(x='Age',y='Fare',data=df,color='orange')\n",
    "sns.regplot(x='Age',y='Fare',data=df,scatter=False,color='blue')\n",
    "plt.title('Age vs Fare')\n",
    "plt.show()"
   ]
  },
  {
   "cell_type": "markdown",
   "id": "7fba5164",
   "metadata": {},
   "source": [
    "### Distribution of Fares"
   ]
  },
  {
   "cell_type": "code",
   "execution_count": null,
   "id": "0b053a07",
   "metadata": {},
   "outputs": [],
   "source": [
    "plt.figure(figsize=(10,5))\n",
    "sns.histplot(df['Fare'],kde=True,color='blue',bins=30)\n",
    "plt.title('Distribution of Fares',fontsize=14)\n",
    "plt.xlabel('Fares')\n",
    "plt.ylabel('Frequency')\n",
    "plt.show()"
   ]
  },
  {
   "cell_type": "markdown",
   "id": "a2c68c53",
   "metadata": {},
   "source": [
    "* shows highly +ve skewness"
   ]
  },
  {
   "cell_type": "markdown",
   "id": "45aeed28",
   "metadata": {},
   "source": [
    "### Survival Rate "
   ]
  },
  {
   "cell_type": "code",
   "execution_count": null,
   "id": "d901abc5",
   "metadata": {},
   "outputs": [],
   "source": [
    "survival_counts = df['Survived'].value_counts()\n",
    "total_passengers = len(df)\n",
    "survived = survival_counts[1]\n",
    "died = survival_counts[0]\n",
    "# survival_counts\n",
    "survival_rate = survived/total_passengers\n",
    "death_rate =died/total_passengers\n",
    "print(f\"Total Passengers: {total_passengers}\")\n",
    "print(f\"Survived: {survived}\")\n",
    "print(f\"Died: {died}\")\n",
    "print(f\"Survival Rate: {survival_rate:.2%}\")\n",
    "print(f\"Death Rate: {death_rate:.2%}\")"
   ]
  },
  {
   "cell_type": "markdown",
   "id": "e15cc0ec",
   "metadata": {},
   "source": [
    "### Visulaization of Survival Rate"
   ]
  },
  {
   "cell_type": "code",
   "execution_count": null,
   "id": "3bcd60bb",
   "metadata": {},
   "outputs": [],
   "source": [
    "plt.figure(figsize=(8,6))\n",
    "survival_counts = df['Survived'].value_counts()\n",
    "labels = ['Died','Survived']\n",
    "plt.bar(labels,survival_counts.values,color=['red','green'])\n",
    "plt.title('Survival COunt')\n",
    "plt.ylabel('Number of Passengers')\n",
    "for i,v in enumerate(survival_counts.values):\n",
    "    plt.text(i,v+10,str(v),ha='center')\n",
    "plt.show()"
   ]
  },
  {
   "cell_type": "markdown",
   "id": "d5e1a804",
   "metadata": {},
   "source": [
    "### Did higher percentage of men or women survived?"
   ]
  },
  {
   "cell_type": "code",
   "execution_count": null,
   "id": "72f61e72",
   "metadata": {},
   "outputs": [],
   "source": [
    "df.head(1)"
   ]
  },
  {
   "cell_type": "code",
   "execution_count": null,
   "id": "06e5830d",
   "metadata": {},
   "outputs": [],
   "source": [
    "le = LabelEncoder()\n",
    "df['Sex_encoded'] = le.fit_transform(df['Sex'])\n",
    "# This labelEncoder will encode the male -> 1 and female-> 0\n",
    "\n",
    "df.head(1)"
   ]
  },
  {
   "cell_type": "markdown",
   "id": "78a254f3",
   "metadata": {},
   "source": [
    "### Male Survival Rate"
   ]
  },
  {
   "cell_type": "code",
   "execution_count": null,
   "id": "c53974dc",
   "metadata": {},
   "outputs": [],
   "source": [
    "total_male = df.Sex_encoded.loc[df.Sex_encoded== 1].count()\n",
    "male_survived = df.Sex_encoded.loc[(df.Sex_encoded==1) & df.Survived == 1 ].count()\n",
    "\n",
    "print(f\"Total male passengers:{total_male}\")\n",
    "print(f\"Survived Male passengers:{male_survived}\")\n",
    "print(f\"Male Passenger Survival Rate: {male_survived/total_male:.2%}\")"
   ]
  },
  {
   "cell_type": "markdown",
   "id": "7cc686ba",
   "metadata": {},
   "source": [
    "### Female Survival Rate"
   ]
  },
  {
   "cell_type": "code",
   "execution_count": null,
   "id": "5349caa1",
   "metadata": {},
   "outputs": [],
   "source": [
    "total_female = df.Sex_encoded.loc[df.Sex_encoded == 0].count()\n",
    "female_survived = df.Sex_encoded.loc[(df.Sex_encoded ==0)&df.Survived ==1].count()\n",
    "\n",
    "print(f\"Total Female Passengers: {total_female}\")\n",
    "print(f\"Total Female Passenger Survived: {female_survived}\")\n",
    "print(f\"Female Passenger Survival Rate: {female_survived/total_female:.2%}\")"
   ]
  },
  {
   "cell_type": "code",
   "execution_count": null,
   "id": "1a76399e",
   "metadata": {},
   "outputs": [],
   "source": [
    "plt.figure(figsize=(8,6))\n",
    "\n",
    "labels = ['Male','Female ']\n",
    "plt.bar(labels,[male_survived,female_survived],color=['blue','pink'])\n",
    "plt.title('Survival Count')\n",
    "plt.ylabel('Number of Passengers')\n",
    "for i,v in enumerate([male_survived,female_survived]):\n",
    "    plt.text(i,v+1,str(v),ha='center')\n",
    "plt.show()"
   ]
  },
  {
   "cell_type": "markdown",
   "id": "7e27eb7a",
   "metadata": {},
   "source": [
    "### Conclusion:\n",
    "Looks like Female Passenger Survived more than that of Male Passengers"
   ]
  },
  {
   "cell_type": "markdown",
   "id": "57fbba0b",
   "metadata": {},
   "source": [
    "# Did people in certain passenger classes (Pclass) have a higher chance of survival?"
   ]
  },
  {
   "cell_type": "code",
   "execution_count": null,
   "id": "bf97f9b4",
   "metadata": {},
   "outputs": [],
   "source": [
    "total_pclass3 = df.Pclass.loc[df.Pclass == 3].count()\n",
    "total_pclass2 = df.Pclass.loc[df.Pclass == 2].count()\n",
    "total_pclass1 = df.Pclass.loc[df.Pclass == 1].count()\n",
    "\n",
    "print(f\"Total Passenger in Class 3: {total_pclass3}\")\n",
    "print(f\"Total Passenger in Class 2: {total_pclass2}\")\n",
    "print(f\"Total Passenger in Class 1: {total_pclass1}\")\n",
    "\n",
    "total_passenger_survived_p3 = df.Pclass.loc[(df.Pclass==3)&(df.Survived==1)].count()\n",
    "total_passenger_survived_p2 = df.Pclass.loc[(df.Pclass==2)&(df.Survived==1)].count()\n",
    "total_passenger_survived_p1 = df.Pclass.loc[(df.Pclass==1)&(df.Survived==1)].count()\n",
    "\n",
    "print(f\"Survival rate of Passenger in Pclass 3: {total_passenger_survived_p3/total_pclass3:.2%}\")\n",
    "print(f\"Survival rate of Passenger in Pclass 2: {total_passenger_survived_p2/total_pclass2:.2%}\")\n",
    "print(f\"Survival rate of Passenger in Pclass 1: {total_passenger_survived_p1/total_pclass1:.2%}\")"
   ]
  },
  {
   "cell_type": "code",
   "execution_count": null,
   "id": "a355fba9-22f3-4763-bb76-6d33c7a8b19d",
   "metadata": {},
   "outputs": [],
   "source": [
    "plt.figure(figsize=(5,6))\n",
    "\n",
    "labels = ['Class 1','Class 2','Class 3']\n",
    "plt.bar(labels,[total_passenger_survived_p1,total_passenger_survived_p2,total_passenger_survived_p3],color=['blue','green','red'])\n",
    "plt.title('Survival Count')\n",
    "plt.ylabel('Number of Passengers')\n",
    "for i,v in enumerate([total_passenger_survived_p1,total_passenger_survived_p2,total_passenger_survived_p3]):\n",
    "    plt.text(i,v+1,str(v),ha='center')\n",
    "plt.show()"
   ]
  },
  {
   "cell_type": "markdown",
   "id": "207361a3-9981-43b2-9336-ad2f19cc2c3f",
   "metadata": {},
   "source": [
    "### Coclusion: "
   ]
  },
  {
   "cell_type": "markdown",
   "id": "59de5ae0-5ec1-4f29-99bd-4af359068f09",
   "metadata": {},
   "source": [
    "* seems like class 1 passenger has higher survival rate"
   ]
  },
  {
   "cell_type": "markdown",
   "id": "2c25c1ff-f374-4fd0-9dbe-703cd357e6ec",
   "metadata": {},
   "source": [
    "# Building Machine Learning Model"
   ]
  },
  {
   "cell_type": "code",
   "execution_count": null,
   "id": "09b9fcf2-8cd6-43dc-8b27-61224eaf9ba9",
   "metadata": {},
   "outputs": [],
   "source": [
    "features = ['Pclass','Sex_encoded','Age','Fare']\n",
    "X = df[features]\n",
    "y = df['Survived']"
   ]
  },
  {
   "cell_type": "markdown",
   "id": "8ef2f9e5-4c7c-4736-bf9b-e7dbcde80d4b",
   "metadata": {},
   "source": [
    "## Splitting the data"
   ]
  },
  {
   "cell_type": "code",
   "execution_count": null,
   "id": "af69a73c-64b6-4d47-b9ef-d02cae022f69",
   "metadata": {},
   "outputs": [],
   "source": [
    "from sklearn.model_selection import train_test_split\n",
    "X_train,X_test,y_train,y_test = train_test_split(X,y,test_size =0.2,random_state=42)"
   ]
  },
  {
   "cell_type": "markdown",
   "id": "7e9ba0e4-d46d-4a1d-a82b-ea2b7c437faf",
   "metadata": {},
   "source": [
    "## fitting the model ( Linear Regression Model)"
   ]
  },
  {
   "cell_type": "code",
   "execution_count": null,
   "id": "01035502-159a-4714-8a46-653a75530db8",
   "metadata": {},
   "outputs": [],
   "source": [
    "from sklearn.linear_model import LinearRegression\n",
    "model = LinearRegression()\n",
    "model.fit(X_train,y_train)"
   ]
  },
  {
   "cell_type": "markdown",
   "id": "fc1a6236-37c5-4569-8b25-fee07a8bc917",
   "metadata": {},
   "source": [
    "## Prediction from the model"
   ]
  },
  {
   "cell_type": "code",
   "execution_count": null,
   "id": "cb8e7a31-3a73-4bb2-b1b9-76ff1694c303",
   "metadata": {},
   "outputs": [],
   "source": [
    "y_pred = model.predict(X_test)"
   ]
  },
  {
   "cell_type": "markdown",
   "id": "d5222dde-38e7-4277-aa71-471e180a04a2",
   "metadata": {},
   "source": [
    "## Evaluation "
   ]
  },
  {
   "cell_type": "code",
   "execution_count": null,
   "id": "8729e792-70a9-4ba8-aeb6-b245b7072106",
   "metadata": {},
   "outputs": [],
   "source": [
    "from sklearn.metrics import r2_score, mean_absolute_error,accuracy_score,confusion_matrix\n",
    "r2 = r2_score(y_test,y_pred)\n",
    "mae = mean_absolute_error(y_test,y_pred)\n",
    "print(f\"R2 score: {r2:.2f}\")\n",
    "print(f\"mae score: {mae:.2f}\")"
   ]
  },
  {
   "cell_type": "code",
   "execution_count": null,
   "id": "cd7d090c-2f9f-4625-9e8c-adfa96652fd9",
   "metadata": {},
   "outputs": [],
   "source": [
    "import joblib\n",
    "\n",
    "joblib.dump(model,\"ML_model/Linear_regression.pkl\")"
   ]
  },
  {
   "cell_type": "markdown",
   "id": "da89f1f0-61d7-49d0-afcf-af8798a9323d",
   "metadata": {},
   "source": [
    "### Calculating the models accuracy"
   ]
  },
  {
   "cell_type": "markdown",
   "id": "1755b947-efc4-45e4-b8b3-543758cfebf9",
   "metadata": {},
   "source": [
    "# #accuracy = accuracy_score(y_test,y_pred)"
   ]
  },
  {
   "cell_type": "markdown",
   "id": "cf5e9035-d24c-4471-a01e-6b025dd515a3",
   "metadata": {},
   "source": [
    "* caused an error as the linear regression is used for regression problems where the values are a continuous\n",
    "* for ex: house price prediction, person's age prediction"
   ]
  },
  {
   "cell_type": "markdown",
   "id": "462f139e-ce3e-426c-9fd5-422b98ebb5fa",
   "metadata": {},
   "source": [
    "## Logisitic Regression for Classification Problem"
   ]
  },
  {
   "cell_type": "markdown",
   "id": "3bba6dc1-5d3b-4c57-87d6-99ab923e7ada",
   "metadata": {},
   "source": [
    "* predicting discrete category or class\n",
    "* like predicting if email is \"spam\" or \"not spam\"\n",
    "* if tumour is \"maligant\" or \"bengin\"\n",
    "\n",
    "* which is best for this problem that is titanic survival"
   ]
  },
  {
   "cell_type": "markdown",
   "id": "542642d0-1b3c-4b3e-a0eb-4a524833b632",
   "metadata": {},
   "source": [
    "## Logistic Regression Model"
   ]
  },
  {
   "cell_type": "code",
   "execution_count": null,
   "id": "b9af8292-4438-4b58-861f-3f86df7643d9",
   "metadata": {},
   "outputs": [],
   "source": [
    "from sklearn.linear_model import LogisticRegression\n",
    "log_model = LogisticRegression(solver='liblinear')\n",
    "\n",
    "# Train the model\n",
    "log_model.fit(X_train,y_train)"
   ]
  },
  {
   "cell_type": "markdown",
   "id": "8b555845-313f-46d5-b519-38a7b3e768cc",
   "metadata": {},
   "source": [
    "## Prediction using logistic regression model"
   ]
  },
  {
   "cell_type": "code",
   "execution_count": null,
   "id": "13164072-41b0-4dcf-8560-baf05cd83f0f",
   "metadata": {},
   "outputs": [],
   "source": [
    "y_pred=log_model.predict(X_test)"
   ]
  },
  {
   "cell_type": "markdown",
   "id": "22f126fb-1477-4fd5-9bd2-ab93f64700c6",
   "metadata": {},
   "source": [
    "## Calculate the accuracy of the model"
   ]
  },
  {
   "cell_type": "code",
   "execution_count": null,
   "id": "381fa242-2cbf-43d1-8927-45cd6583b381",
   "metadata": {},
   "outputs": [],
   "source": [
    "accuracy = accuracy_score(y_test,y_pred)\n",
    "print(f\"Accuracy: {accuracy:.2%}\")"
   ]
  },
  {
   "cell_type": "markdown",
   "id": "ab325dcb-d0f0-4457-8cf7-69e7fc53c2e4",
   "metadata": {},
   "source": [
    "### Dumping the logistic regression model"
   ]
  },
  {
   "cell_type": "code",
   "execution_count": null,
   "id": "c2d3fce0-c112-4156-bebe-a0ec6ba2961e",
   "metadata": {},
   "outputs": [],
   "source": [
    "joblib.dump(log_model,'ML_model/Logistic_regression.pkl')"
   ]
  },
  {
   "cell_type": "markdown",
   "id": "d6834c19-5a59-46d8-896b-21197a785bed",
   "metadata": {},
   "source": [
    "### considering we have not handled outliers"
   ]
  },
  {
   "cell_type": "markdown",
   "id": "a29919ec-63ef-4635-bac6-831924595a23",
   "metadata": {},
   "source": [
    "## Confusion Matrix"
   ]
  },
  {
   "cell_type": "code",
   "execution_count": null,
   "id": "2cfc5540-001b-4ef8-8758-162589d203aa",
   "metadata": {},
   "outputs": [],
   "source": [
    "conf_matrix = confusion_matrix(y_test,y_pred)"
   ]
  },
  {
   "cell_type": "code",
   "execution_count": null,
   "id": "0a99515f-8cc9-4c44-ab81-02366466cb8e",
   "metadata": {},
   "outputs": [],
   "source": [
    "conf_matrix_df = pd.DataFrame(conf_matrix, index=['Actual 0 (No)', 'Actual 1 (Yes)'], columns=['Predicted 0 (No)', 'Predicted 1 (Yes)'])\n",
    "sns.set(font_scale=1.2)\n",
    "\n",
    "plt.figure(figsize=(8, 6))\n",
    "sns.heatmap(conf_matrix_df, annot=True, fmt='d', cmap='Blues', cbar=False)\n",
    "\n",
    "plt.title('Confusion Matrix for Titanic Survival Prediction')\n",
    "plt.xlabel('Predicted Label')\n",
    "plt.ylabel('Actual Label')\n",
    "plt.show()"
   ]
  },
  {
   "cell_type": "markdown",
   "id": "5554d87f",
   "metadata": {},
   "source": [
    "# Extracting Info through Feature engineering"
   ]
  },
  {
   "cell_type": "markdown",
   "id": "4c8c8c94",
   "metadata": {},
   "source": [
    "## Family Size"
   ]
  },
  {
   "cell_type": "code",
   "execution_count": null,
   "id": "58dffd1c",
   "metadata": {},
   "outputs": [],
   "source": [
    "df['FamilySize'] = df['SibSp'] + df['Parch'] +1\n",
    "df.FamilySize"
   ]
  },
  {
   "cell_type": "code",
   "execution_count": null,
   "id": "2939b139",
   "metadata": {},
   "outputs": [],
   "source": [
    "df[\"IsAlone\"] = (df['FamilySize']==1).astype(int)"
   ]
  },
  {
   "cell_type": "code",
   "execution_count": null,
   "id": "a2ad69ae",
   "metadata": {},
   "outputs": [],
   "source": [
    "df.IsAlone"
   ]
  },
  {
   "cell_type": "code",
   "execution_count": null,
   "id": "02e44509",
   "metadata": {},
   "outputs": [],
   "source": [
    "labels = ['Child','Teen','Adult','Senior']\n",
    "df['AgeGroup'] =pd.cut(df['Age'],bins=[0,12,18,65,100],labels=labels)\n",
    "df.sample()"
   ]
  },
  {
   "cell_type": "markdown",
   "id": "e673ecc1",
   "metadata": {},
   "source": [
    "## Correlation Matrix"
   ]
  },
  {
   "cell_type": "code",
   "execution_count": null,
   "id": "1b2d975a",
   "metadata": {},
   "outputs": [],
   "source": [
    "numerical_cols = df.select_dtypes(include='number').columns\n",
    "\n",
    "correlation_matrix = df[numerical_cols].corr()\n",
    "plt.figure(figsize=(10,7))\n",
    "sns.heatmap(correlation_matrix,annot=True)"
   ]
  },
  {
   "cell_type": "markdown",
   "id": "c7dca08c",
   "metadata": {},
   "source": [
    "## Cross Validation "
   ]
  },
  {
   "cell_type": "code",
   "execution_count": null,
   "id": "7363dac1",
   "metadata": {},
   "outputs": [],
   "source": [
    "from sklearn.model_selection import cross_val_score\n",
    "cv_scores = cross_val_score(log_model,X,y,cv=5)\n",
    "print(f\"CV accuracy: {cv_scores.mean():.3f}(+/- {cv_scores.std() * 2:.3f})\")"
   ]
  },
  {
   "cell_type": "markdown",
   "id": "4f45d144",
   "metadata": {},
   "source": [
    "## Testing the model using the test dataset"
   ]
  },
  {
   "cell_type": "code",
   "execution_count": null,
   "id": "2f370b4b",
   "metadata": {},
   "outputs": [],
   "source": [
    "test_df = pd.read_csv('datasets/test.csv')\n",
    "test_df['Sex_encoded'] = le.transform(test_df['Sex'])\n",
    "test_df.fillna(median_age,inplace=True)\n",
    "Xt = test_df[features]\n",
    "yt = log_model.predict(Xt)\n",
    "test_df['Survived_Prediction'] = yt"
   ]
  },
  {
   "cell_type": "code",
   "execution_count": null,
   "id": "cdefbac9",
   "metadata": {},
   "outputs": [],
   "source": [
    "died =test_df.Survived_Prediction.loc[test_df.Survived_Prediction==0].count()\n",
    "print(f\"No. of death predicted: {died}\")\n",
    "survived = test_df.Survived_Prediction.loc[test_df.Survived_Prediction == 1].count()\n",
    "print(f\"No. of Survived Prediction: {survived}\\n\")\n",
    "\n",
    "predicted_survival_rate = survived/ test_df.PassengerId.count()\n",
    "predicted_death_rate = died/ test_df.PassengerId.count()\n",
    "print(f\"Training Survival  Rate: {survival_rate:.2%}\")\n",
    "print(f\"Training Death Rate: {death_rate:.2%}\\n\")\n",
    "print(f\"Predicted survival rate : {predicted_survival_rate:.2%}\")\n",
    "print(f\"Predicted death rate : {predicted_death_rate:.2%}\")"
   ]
  },
  {
   "cell_type": "markdown",
   "id": "05c17724",
   "metadata": {},
   "source": [
    "# Hypothesis Testing\n",
    "* Hypothesis (H0) : There is no difference in survival rates between passenger class\n",
    "* Alternate (H1) : There is significant difference in survival rates between passenger class"
   ]
  },
  {
   "cell_type": "code",
   "execution_count": null,
   "id": "a7b38a73",
   "metadata": {},
   "outputs": [],
   "source": [
    "# Using ANOVA test\n",
    "from scipy.stats import f_oneway\n",
    "alpha = 0.05\n",
    "class1_survival = df[df['Pclass']==1]['Survived']\n",
    "class2_survival = df[df['Pclass']==2]['Survived']\n",
    "class3_survival = df[df['Pclass']==3]['Survived']\n",
    "\n",
    "f_stat,p_value = f_oneway(class1_survival,class2_survival,class3_survival)\n",
    "print(f\"ANOVA F-stat: {f_stat:.4f}\")\n",
    "print(f\"P-value: {p_value:.6f}\")\n",
    "\n",
    "if p_value < alpha:\n",
    "    print(f\"Passenger class significantly affects the Survival rate\")\n",
    "else:\n",
    "    print(\"Passenger class does not affects the Survival rate\")\n"
   ]
  },
  {
   "cell_type": "markdown",
   "id": "9854e094",
   "metadata": {},
   "source": [
    "# Conclusion:\n",
    "## This data clearly shows that the higher class passenger was major factor in Titanic survival rates"
   ]
  }
 ],
 "metadata": {
  "kernelspec": {
   "display_name": "first_data_analysis_project",
   "language": "python",
   "name": "python3"
  },
  "language_info": {
   "codemirror_mode": {
    "name": "ipython",
    "version": 3
   },
   "file_extension": ".py",
   "mimetype": "text/x-python",
   "name": "python",
   "nbconvert_exporter": "python",
   "pygments_lexer": "ipython3",
   "version": "3.13.5"
  }
 },
 "nbformat": 4,
 "nbformat_minor": 5
}
